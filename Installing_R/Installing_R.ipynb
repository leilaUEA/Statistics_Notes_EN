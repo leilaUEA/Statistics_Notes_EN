{
 "cells": [
  {
   "cell_type": "markdown",
   "id": "c4f4323b",
   "metadata": {},
   "source": [
    "\n",
    "# Anaconda Installation\n",
    "\n",
    "This course matrial is designed with Jupyter Notebook. To install it, you can install anaconda https://www.anaconda.com/. \n",
    "\n",
    "Installation guide can be found on: https://docs.anaconda.com/free/anaconda/install/ and to learn more about working with anaconda in graphical mode (anacond navigator) or command mode (conda) you can refer to: https://docs.anaconda.com/free/anaconda/getting-started/\n",
    "\n",
    "We are using Jupyter Notebook for creating the course materials. You can install Jupyter Notebook using anaconda navigator (https://docs.anaconda.com/free/navigator/getting-started/). After running the Anaconda navigator you can install jupyter notebook using the options shown in the panel and launch it. \n",
    "\n",
    "The Jupyter Notebook files of this course have the extension of \".ipynb\" and they can be opened by Jupyter Notebook by uploading the file and openning it.\n",
    "\n",
    "# R Installation\n",
    "\n",
    "First install R using this link: https://cran.r-project.org/\n",
    "\n",
    "We are using the R-Kernel for Jupyter Notebook (https://irkernel.github.io/). See the installation page for different installation method depending on your operating system.\n",
    "\n",
    "After installing R, run R (For example in ubuntu terminal you can type \"R\"), in the console run the following code to install the required R packages:"
   ]
  },
  {
   "cell_type": "code",
   "execution_count": null,
   "id": "b0cae8bf",
   "metadata": {},
   "outputs": [],
   "source": [
    "install.packages(c('repr', 'IRdisplay', 'IRkernel'), type = 'source')\n"
   ]
  },
  {
   "cell_type": "code",
   "execution_count": null,
   "id": "87150e08",
   "metadata": {},
   "outputs": [],
   "source": [
    "install.packages(c('repr', 'IRdisplay', 'evaluate', 'crayon', 'pbdZMQ', 'devtools', 'uuid', 'digest'))"
   ]
  },
  {
   "cell_type": "markdown",
   "id": "2f76ce71",
   "metadata": {},
   "source": [
    "Now install the IRKernel package using devtools:"
   ]
  },
  {
   "cell_type": "code",
   "execution_count": null,
   "id": "34a84490",
   "metadata": {},
   "outputs": [],
   "source": [
    "devtools::install_github('IRkernel/IRkernel')"
   ]
  },
  {
   "cell_type": "markdown",
   "id": "d2fa9d26",
   "metadata": {},
   "source": [
    "Next, you will have to make Jupyter see the newly installed R kernel by installing a kernel spec. The kernel spec can be installed for the current user with the following line from R:"
   ]
  },
  {
   "cell_type": "code",
   "execution_count": null,
   "id": "bb69538a",
   "metadata": {},
   "outputs": [],
   "source": [
    "IRkernel::installspec()"
   ]
  },
  {
   "cell_type": "markdown",
   "id": "55d77570",
   "metadata": {},
   "source": [
    "You should be able to see the \"R\" kernel that is added to the default \"Python\" kernel in anaconda jupyter notebook after re-launching it. Choosing the \"R\" kernel you can now run codes written in \"R\" language inside Jupyter Notebook."
   ]
  },
  {
   "cell_type": "markdown",
   "id": "5ab08e81",
   "metadata": {},
   "source": [
    "Alternatively, it is possible to install R inside anaconda. In Windows open anaconda prompt (in Linux open the Terminal) and in your selected environment write the following command:"
   ]
  },
  {
   "cell_type": "code",
   "execution_count": null,
   "id": "a490c552",
   "metadata": {},
   "outputs": [],
   "source": [
    "conda install -c r r-irkernel"
   ]
  },
  {
   "cell_type": "markdown",
   "id": "a49a0f7d",
   "metadata": {},
   "source": [
    "Now restart your jupyter notebook to see the \"R\" kernel."
   ]
  },
  {
   "cell_type": "markdown",
   "id": "f147b8ec",
   "metadata": {},
   "source": [
    "# RStudio Installation\n",
    "\n",
    "RStudio is an integrated development environment for R, a programming language for statistical computing and graphics. It can be installed using following link https://posit.co/download/rstudio-desktop/ after installing R on your computer."
   ]
  },
  {
   "cell_type": "markdown",
   "id": "ab520152",
   "metadata": {},
   "source": [
    "# R Programming\n",
    "\n",
    "Here we review some of the most useful functions and data structures that you can use in your programming using R. \n",
    "\n",
    "It is possible to ask R to show the related documentation for specific function or package using the following codes:"
   ]
  },
  {
   "cell_type": "code",
   "execution_count": null,
   "id": "84156523",
   "metadata": {},
   "outputs": [],
   "source": [
    "## Documentation of installed functions\n",
    "?mean\n",
    "\n",
    "## Documentation of functions\n",
    "??highchart\n",
    "\n",
    "## Documentation of packages or functions\n",
    "help(\"\")\n",
    "\n",
    "#### Getting help on packages\n",
    "vignette(\"\")"
   ]
  },
  {
   "cell_type": "markdown",
   "id": "0915bcc4",
   "metadata": {},
   "source": [
    "- Installing a package:"
   ]
  },
  {
   "cell_type": "code",
   "execution_count": null,
   "id": "a4ddfe29",
   "metadata": {},
   "outputs": [],
   "source": [
    "install.packages(\"Name Of the package\")"
   ]
  },
  {
   "cell_type": "markdown",
   "id": "cab4da9a",
   "metadata": {},
   "source": [
    "- Using an installed package:"
   ]
  },
  {
   "cell_type": "code",
   "execution_count": null,
   "id": "493be220",
   "metadata": {},
   "outputs": [],
   "source": [
    "library()"
   ]
  },
  {
   "cell_type": "markdown",
   "id": "d84a965b",
   "metadata": {},
   "source": [
    "- Other useful function related to the packages:"
   ]
  },
  {
   "cell_type": "code",
   "execution_count": null,
   "id": "2baba98a",
   "metadata": {},
   "outputs": [],
   "source": [
    "## Removing a package\n",
    "remove.packages(\"\")\n",
    "\n",
    "## Installed packages that need to be updated\n",
    "old.packages()\n",
    "\n",
    "## Updating old packages\n",
    "update.packages()\n",
    "\n",
    "## Using a function from a package without loading the package \n",
    "### PackageName::function()\n",
    "ggplot2::geom_point"
   ]
  },
  {
   "cell_type": "markdown",
   "id": "b9b02399",
   "metadata": {},
   "source": [
    "- Basic Functions:"
   ]
  },
  {
   "cell_type": "code",
   "execution_count": null,
   "id": "3d08f96f",
   "metadata": {},
   "outputs": [],
   "source": [
    "## Printing\n",
    "print(\"Hello World!\")"
   ]
  },
  {
   "cell_type": "code",
   "execution_count": null,
   "id": "a08e728d",
   "metadata": {},
   "outputs": [],
   "source": []
  }
 ],
 "metadata": {
  "kernelspec": {
   "display_name": "R",
   "language": "R",
   "name": "ir"
  },
  "language_info": {
   "codemirror_mode": "r",
   "file_extension": ".r",
   "mimetype": "text/x-r-source",
   "name": "R",
   "pygments_lexer": "r",
   "version": "4.3.1"
  }
 },
 "nbformat": 4,
 "nbformat_minor": 5
}
